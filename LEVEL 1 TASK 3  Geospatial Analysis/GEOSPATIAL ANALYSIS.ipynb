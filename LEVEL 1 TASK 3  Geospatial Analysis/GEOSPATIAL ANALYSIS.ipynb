{
 "cells": [
  {
   "cell_type": "markdown",
   "metadata": {},
   "source": [
    "## Geospatial Analysis"
   ]
  },
  {
   "cell_type": "code",
   "execution_count": 2,
   "metadata": {},
   "outputs": [],
   "source": [
    "import folium\n",
    "import pandas as pd\n",
    "import matplotlib.pyplot as plt\n",
    "import warnings\n",
    "warnings.filterwarnings('ignore')\n",
    "import seaborn as sns\n",
    "file_path = r'C:\\Users\\Lenovo\\Documents\\GitHub\\TheUltimate pandas bootcamp\\Cognifyz-Data-Mastery-Program\\DATASETS\\Dataset .csv'\n",
    "DATASET = pd.read_csv(file_path)"
   ]
  },
  {
   "cell_type": "markdown",
   "metadata": {},
   "source": [
    "Visualize and analyze the locations of restaurants based on their latitude and longitude to understand their geographical distribution across cities."
   ]
  },
  {
   "cell_type": "code",
   "execution_count": 4,
   "metadata": {},
   "outputs": [
    {
     "name": "stdout",
     "output_type": "stream",
     "text": [
      "AVERAGE LATITUDE 25.854380700074756\n",
      "AVERAGE LONGITUDE 64.12657446168706\n"
     ]
    }
   ],
   "source": [
    "avg_lat = DATASET['Latitude'].mean()\n",
    "avg_lon = DATASET['Longitude'].mean()\n",
    "map_restaurants = folium.Map(location=[avg_lat, avg_lon], zoom_start=12)\n",
    "print(\"AVERAGE LATITUDE\",avg_lat)\n",
    "print(\"AVERAGE LONGITUDE\",avg_lon)"
   ]
  },
  {
   "cell_type": "code",
   "execution_count": 5,
   "metadata": {},
   "outputs": [],
   "source": [
    "for _, row in DATASET.iterrows():\n",
    "    folium.Marker(\n",
    "        location=[row['Latitude'], row['Longitude']],\n",
    "        popup=f\"{row['Restaurant Name']} - {row['City']}\",\n",
    "        icon=folium.Icon(color='blue', icon='cutlery', prefix='fa')\n",
    "    ).add_to(map_restaurants)"
   ]
  },
  {
   "cell_type": "code",
   "execution_count": 6,
   "metadata": {},
   "outputs": [
    {
     "name": "stdout",
     "output_type": "stream",
     "text": [
      "Map has been saved as 'restaurant_map.html'. Open this file in a browser to view the interactive map.\n"
     ]
    }
   ],
   "source": [
    "map_restaurants.save(\"restaurant_map.html\")\n",
    "print(\"Map has been saved as 'restaurant_map.html'. Open this file in a browser to view the interactive map.\")"
   ]
  }
 ],
 "metadata": {
  "kernelspec": {
   "display_name": "Python 3",
   "language": "python",
   "name": "python3"
  },
  "language_info": {
   "codemirror_mode": {
    "name": "ipython",
    "version": 3
   },
   "file_extension": ".py",
   "mimetype": "text/x-python",
   "name": "python",
   "nbconvert_exporter": "python",
   "pygments_lexer": "ipython3",
   "version": "3.11.9"
  }
 },
 "nbformat": 4,
 "nbformat_minor": 2
}
